{
 "cells": [
  {
   "cell_type": "markdown",
   "metadata": {},
   "source": [
    "## Парсинг HTML (hh.ru, superjob.ru)"
   ]
  },
  {
   "cell_type": "markdown",
   "metadata": {},
   "source": [
    "#### Библиотеки для парсинга HTML и данных"
   ]
  },
  {
   "cell_type": "code",
   "execution_count": 171,
   "metadata": {},
   "outputs": [],
   "source": [
    "import pandas as pd\n",
    "import requests\n",
    "import re\n",
    "import json\n",
    "\n",
    "from bs4 import BeautifulSoup as bs\n",
    "from pprint import pprint"
   ]
  },
  {
   "cell_type": "markdown",
   "metadata": {},
   "source": [
    "## Скачивание данных"
   ]
  },
  {
   "cell_type": "markdown",
   "metadata": {},
   "source": [
    "#### 1. Подготовка параметров для скачивания"
   ]
  },
  {
   "cell_type": "code",
   "execution_count": 114,
   "metadata": {
    "scrolled": true
   },
   "outputs": [
    {
     "name": "stdout",
     "output_type": "stream",
     "text": [
      "Введите название вакансии для поиска: Директор по маркетингу\n"
     ]
    }
   ],
   "source": [
    "vacancy_name = input('Введите название вакансии для поиска: ')"
   ]
  },
  {
   "cell_type": "code",
   "execution_count": 115,
   "metadata": {
    "scrolled": true
   },
   "outputs": [
    {
     "name": "stdout",
     "output_type": "stream",
     "text": [
      "Введите количество страниц для поиска: 1\n"
     ]
    }
   ],
   "source": [
    "pages = int(input('Введите количество страниц для поиска: '))"
   ]
  },
  {
   "cell_type": "code",
   "execution_count": 116,
   "metadata": {
    "scrolled": true
   },
   "outputs": [
    {
     "data": {
      "text/plain": [
       "('Директор по маркетингу', 1)"
      ]
     },
     "execution_count": 116,
     "metadata": {},
     "output_type": "execute_result"
    }
   ],
   "source": [
    "vacancy_name, pages"
   ]
  },
  {
   "cell_type": "code",
   "execution_count": 117,
   "metadata": {},
   "outputs": [],
   "source": [
    "headers = {'User-Agent': 'Mozilla/5.0 (Macintosh; Intel Mac OS X 10_15_5) AppleWebKit/605.1.15 (KHTML, like Gecko) Version/13.1.1 Safari/605.1.15',\n",
    "           'Accept': '*/*'}"
   ]
  },
  {
   "cell_type": "code",
   "execution_count": 194,
   "metadata": {
    "scrolled": false
   },
   "outputs": [
    {
     "name": "stdout",
     "output_type": "stream",
     "text": [
      "50\n",
      "20\n"
     ]
    }
   ],
   "source": [
    "hh_link = 'https://hh.ru'\n",
    "sj_link = 'https://superjob.ru'\n",
    "\n",
    "vacancies = []\n",
    "\n",
    "for page in range(pages):\n",
    "    #Поиск по странице hh.ru\n",
    "    hh_params = {'page':str(page),\n",
    "                 'text':vacancy_name,\n",
    "                 'L_save_area':'false',\n",
    "                 'clusters':'true',\n",
    "                 'search_field':'name',\n",
    "                 'enable_snippets':'true'}\n",
    "    response = requests.get(hh_link+'/search/vacancy', headers=headers, params=hh_params)\n",
    "    soup = bs(response.text, 'html.parser')\n",
    "    \n",
    "    if response.ok:\n",
    "        vacancies_block = soup.find('div',{'class':'vacancy-serp'})\n",
    "        vacancies_list = vacancies_block.find_all('div',{'class':'vacancy-serp-item'})\n",
    "        \n",
    "        print(len(vacancies_list))\n",
    "        \n",
    "        for vacancy in vacancies_list:\n",
    "            vacancy_data = {}\n",
    "            #id вакансии\n",
    "            vacancy_data['name'] = vacancy.find('a',{'data-qa':'vacancy-serp__vacancy-title'}).getText()\n",
    "            vacancy_data['link'] = vacancy.find('a',{'data-qa':'vacancy-serp__vacancy-title'})['href']\n",
    "            a = vacancy.find('span',{'data-qa':'vacancy-serp__vacancy-compensation'})\n",
    "            if a == None:\n",
    "                a = None\n",
    "            else:\n",
    "                a = a.getText()\n",
    "                a = re.split('[\\xa0 -]',a)\n",
    "                a = [i for i in a if i != '—']\n",
    "                \n",
    "                if len(a) == 4 and a[0] == 'от':\n",
    "                    vacancy_data['min_salary'] = int(a[1]+a[2])\n",
    "                if len(a) == 4 and a[0] == 'до':\n",
    "                    vacancy_data['max_salary'] = int(a[1]+a[2])\n",
    "                if len(a) > 4:\n",
    "                    vacancy_data['min_salary'] = int(a[0]+a[1])\n",
    "                    vacancy_data['max_salary'] = int(a[2]+a[3])\n",
    "                    \n",
    "                vacancy_data['currency'] = a[-1]\n",
    "                    \n",
    "            b = vacancy.find('span',{'data-qa':'vacancy-serp__vacancy-address'}).getText()\n",
    "            vacancy_data['city'] = b.split(',')[0]\n",
    "            vacancy_data['main_link'] = hh_link\n",
    "            vacancy_id = vacancy.find('script',{'data-name':'HH/VacancyResponsePopup/VacancyResponsePopup'})\n",
    "            vacancy_data['vacancy_id'] = json.loads(vacancy_id['data-params'])['vacancyId']\n",
    "            \n",
    "            vacancies.append(vacancy_data)\n",
    "            \n",
    "    #Поиск по странице superjob.ru\n",
    "    \n",
    "    sj_params = {'page':str(page),\n",
    "                 'keywords':vacancy_name,\n",
    "                 'noGeo':1}\n",
    "    \n",
    "    response = requests.get(sj_link+'/vacancy/search/', headers=headers, params=sj_params)\n",
    "    soup = bs(response.text, 'html.parser')\n",
    "    \n",
    "    if response.ok:\n",
    "        vacancies_block = soup.find('div',{'class':'iJCa5'})\n",
    "        vacancies_list = vacancies_block.find_all('div',{'class':'LvoDO'})\n",
    "        \n",
    "        print(len(vacancies_list))\n",
    "        \n",
    "        for vacancy in vacancies_list:\n",
    "            vacancy_data = {}\n",
    "            vacancy_data['name'] = vacancy.find('a',{'class':'icMQ_'}).getText()\n",
    "            vacancy_data['link'] = sj_link+vacancy.find('a',{'class':'icMQ_'})['href']\n",
    "            \n",
    "            a = vacancy.find('span',{'class':'PlM3e'}).getText()\n",
    "            if a =='По договорённости':\n",
    "                a = None\n",
    "            else:\n",
    "                a = re.split('[\\xa0 -]',a)\n",
    "                a = [i for i in a if i != '—']\n",
    "                \n",
    "                if len(a) == 4 and a[0] == 'от':\n",
    "                    vacancy_data['min_salary'] = int(a[1]+a[2])\n",
    "                if len(a) == 4 and a[0] == 'до':\n",
    "                    vacancy_data['max_salary'] = int(a[1]+a[2])\n",
    "                if len(a) > 4:\n",
    "                    vacancy_data['min_salary'] = int(a[0]+a[1])\n",
    "                    vacancy_data['max_salary'] = int(a[2]+a[3])\n",
    "                    \n",
    "                vacancy_data['currency'] = a[-1]\n",
    "                    \n",
    "            b = vacancy.find('span',{'class':'clLH5'}).find_next_sibling().getText()\n",
    "            vacancy_data['city'] = b.split(',')[0]\n",
    "            vacancy_data['main_link'] = sj_link\n",
    "            vacancy_data['vacancy_id'] = str(''.join(re.findall('[0-9]+', vacancy_data['link'])))\n",
    "            \n",
    "            vacancies.append(vacancy_data)"
   ]
  },
  {
   "cell_type": "code",
   "execution_count": 195,
   "metadata": {
    "scrolled": true
   },
   "outputs": [
    {
     "data": {
      "text/html": [
       "<div>\n",
       "<style scoped>\n",
       "    .dataframe tbody tr th:only-of-type {\n",
       "        vertical-align: middle;\n",
       "    }\n",
       "\n",
       "    .dataframe tbody tr th {\n",
       "        vertical-align: top;\n",
       "    }\n",
       "\n",
       "    .dataframe thead th {\n",
       "        text-align: right;\n",
       "    }\n",
       "</style>\n",
       "<table border=\"1\" class=\"dataframe\">\n",
       "  <thead>\n",
       "    <tr style=\"text-align: right;\">\n",
       "      <th></th>\n",
       "      <th>name</th>\n",
       "      <th>link</th>\n",
       "      <th>min_salary</th>\n",
       "      <th>max_salary</th>\n",
       "      <th>currency</th>\n",
       "      <th>city</th>\n",
       "      <th>main_link</th>\n",
       "      <th>vacancy_id</th>\n",
       "    </tr>\n",
       "  </thead>\n",
       "  <tbody>\n",
       "    <tr>\n",
       "      <th>0</th>\n",
       "      <td>Директор по маркетингу и развитию</td>\n",
       "      <td>https://novorossiysk.hh.ru/vacancy/38195470?qu...</td>\n",
       "      <td>150000.0</td>\n",
       "      <td>250000.0</td>\n",
       "      <td>руб.</td>\n",
       "      <td>Москва</td>\n",
       "      <td>https://hh.ru</td>\n",
       "      <td>38195470</td>\n",
       "    </tr>\n",
       "    <tr>\n",
       "      <th>1</th>\n",
       "      <td>Директор по маркетингу</td>\n",
       "      <td>https://novorossiysk.hh.ru/vacancy/38123801?qu...</td>\n",
       "      <td>100000.0</td>\n",
       "      <td>300000.0</td>\n",
       "      <td>руб.</td>\n",
       "      <td>Москва</td>\n",
       "      <td>https://hh.ru</td>\n",
       "      <td>38123801</td>\n",
       "    </tr>\n",
       "    <tr>\n",
       "      <th>2</th>\n",
       "      <td>Директор по маркетингу</td>\n",
       "      <td>https://novorossiysk.hh.ru/vacancy/38148877?qu...</td>\n",
       "      <td>230000.0</td>\n",
       "      <td>NaN</td>\n",
       "      <td>руб.</td>\n",
       "      <td>Санкт-Петербург</td>\n",
       "      <td>https://hh.ru</td>\n",
       "      <td>38148877</td>\n",
       "    </tr>\n",
       "    <tr>\n",
       "      <th>3</th>\n",
       "      <td>Директор по маркетингу и развитию обменного пу...</td>\n",
       "      <td>https://novorossiysk.hh.ru/vacancy/37415755?qu...</td>\n",
       "      <td>250000.0</td>\n",
       "      <td>500000.0</td>\n",
       "      <td>руб.</td>\n",
       "      <td>Санкт-Петербург</td>\n",
       "      <td>https://hh.ru</td>\n",
       "      <td>37415755</td>\n",
       "    </tr>\n",
       "    <tr>\n",
       "      <th>4</th>\n",
       "      <td>Директор по маркетингу и рекламе</td>\n",
       "      <td>https://novorossiysk.hh.ru/vacancy/36331693?qu...</td>\n",
       "      <td>150000.0</td>\n",
       "      <td>250000.0</td>\n",
       "      <td>руб.</td>\n",
       "      <td>Москва</td>\n",
       "      <td>https://hh.ru</td>\n",
       "      <td>36331693</td>\n",
       "    </tr>\n",
       "    <tr>\n",
       "      <th>...</th>\n",
       "      <td>...</td>\n",
       "      <td>...</td>\n",
       "      <td>...</td>\n",
       "      <td>...</td>\n",
       "      <td>...</td>\n",
       "      <td>...</td>\n",
       "      <td>...</td>\n",
       "      <td>...</td>\n",
       "    </tr>\n",
       "    <tr>\n",
       "      <th>65</th>\n",
       "      <td>Руководитель отдела маркетинга и коммуникаций</td>\n",
       "      <td>https://superjob.ru/vakansii/rukovoditel-otdel...</td>\n",
       "      <td>NaN</td>\n",
       "      <td>NaN</td>\n",
       "      <td>NaN</td>\n",
       "      <td>Москва</td>\n",
       "      <td>https://superjob.ru</td>\n",
       "      <td>33645453</td>\n",
       "    </tr>\n",
       "    <tr>\n",
       "      <th>66</th>\n",
       "      <td>Руководитель отдела трейд-маркетинга</td>\n",
       "      <td>https://superjob.ru/vakansii/rukovoditel-otdel...</td>\n",
       "      <td>NaN</td>\n",
       "      <td>NaN</td>\n",
       "      <td>NaN</td>\n",
       "      <td>Санкт-Петербург</td>\n",
       "      <td>https://superjob.ru</td>\n",
       "      <td>34098535</td>\n",
       "    </tr>\n",
       "    <tr>\n",
       "      <th>67</th>\n",
       "      <td>Коммерческий директор (строительство)</td>\n",
       "      <td>https://superjob.ru/vakansii/kommercheskij-dir...</td>\n",
       "      <td>NaN</td>\n",
       "      <td>NaN</td>\n",
       "      <td>NaN</td>\n",
       "      <td>Москва</td>\n",
       "      <td>https://superjob.ru</td>\n",
       "      <td>34181990</td>\n",
       "    </tr>\n",
       "    <tr>\n",
       "      <th>68</th>\n",
       "      <td>Коммерческий директор</td>\n",
       "      <td>https://superjob.ru/vakansii/kommercheskij-dir...</td>\n",
       "      <td>180000.0</td>\n",
       "      <td>NaN</td>\n",
       "      <td>руб.</td>\n",
       "      <td>Санкт-Петербург</td>\n",
       "      <td>https://superjob.ru</td>\n",
       "      <td>33697122</td>\n",
       "    </tr>\n",
       "    <tr>\n",
       "      <th>69</th>\n",
       "      <td>Руководитель отдела маркетинга и рекламы</td>\n",
       "      <td>https://superjob.ru/vakansii/rukovoditel-otdel...</td>\n",
       "      <td>NaN</td>\n",
       "      <td>NaN</td>\n",
       "      <td>NaN</td>\n",
       "      <td>Санкт-Петербург</td>\n",
       "      <td>https://superjob.ru</td>\n",
       "      <td>29808269</td>\n",
       "    </tr>\n",
       "  </tbody>\n",
       "</table>\n",
       "<p>70 rows × 8 columns</p>\n",
       "</div>"
      ],
      "text/plain": [
       "                                                 name  \\\n",
       "0                   Директор по маркетингу и развитию   \n",
       "1                              Директор по маркетингу   \n",
       "2                              Директор по маркетингу   \n",
       "3   Директор по маркетингу и развитию обменного пу...   \n",
       "4                    Директор по маркетингу и рекламе   \n",
       "..                                                ...   \n",
       "65      Руководитель отдела маркетинга и коммуникаций   \n",
       "66               Руководитель отдела трейд-маркетинга   \n",
       "67              Коммерческий директор (строительство)   \n",
       "68                              Коммерческий директор   \n",
       "69           Руководитель отдела маркетинга и рекламы   \n",
       "\n",
       "                                                 link  min_salary  max_salary  \\\n",
       "0   https://novorossiysk.hh.ru/vacancy/38195470?qu...    150000.0    250000.0   \n",
       "1   https://novorossiysk.hh.ru/vacancy/38123801?qu...    100000.0    300000.0   \n",
       "2   https://novorossiysk.hh.ru/vacancy/38148877?qu...    230000.0         NaN   \n",
       "3   https://novorossiysk.hh.ru/vacancy/37415755?qu...    250000.0    500000.0   \n",
       "4   https://novorossiysk.hh.ru/vacancy/36331693?qu...    150000.0    250000.0   \n",
       "..                                                ...         ...         ...   \n",
       "65  https://superjob.ru/vakansii/rukovoditel-otdel...         NaN         NaN   \n",
       "66  https://superjob.ru/vakansii/rukovoditel-otdel...         NaN         NaN   \n",
       "67  https://superjob.ru/vakansii/kommercheskij-dir...         NaN         NaN   \n",
       "68  https://superjob.ru/vakansii/kommercheskij-dir...    180000.0         NaN   \n",
       "69  https://superjob.ru/vakansii/rukovoditel-otdel...         NaN         NaN   \n",
       "\n",
       "   currency             city            main_link vacancy_id  \n",
       "0      руб.           Москва        https://hh.ru   38195470  \n",
       "1      руб.           Москва        https://hh.ru   38123801  \n",
       "2      руб.  Санкт-Петербург        https://hh.ru   38148877  \n",
       "3      руб.  Санкт-Петербург        https://hh.ru   37415755  \n",
       "4      руб.           Москва        https://hh.ru   36331693  \n",
       "..      ...              ...                  ...        ...  \n",
       "65      NaN           Москва  https://superjob.ru   33645453  \n",
       "66      NaN  Санкт-Петербург  https://superjob.ru   34098535  \n",
       "67      NaN           Москва  https://superjob.ru   34181990  \n",
       "68     руб.  Санкт-Петербург  https://superjob.ru   33697122  \n",
       "69      NaN  Санкт-Петербург  https://superjob.ru   29808269  \n",
       "\n",
       "[70 rows x 8 columns]"
      ]
     },
     "execution_count": 195,
     "metadata": {},
     "output_type": "execute_result"
    }
   ],
   "source": [
    "vacancies_data = pd.DataFrame(vacancies)\n",
    "vacancies_data"
   ]
  },
  {
   "cell_type": "markdown",
   "metadata": {},
   "source": [
    "# Mongo DB"
   ]
  },
  {
   "cell_type": "markdown",
   "metadata": {},
   "source": [
    "1. Развернуть у себя на компьютере/виртуальной машине/хостинге MongoDB и реализовать функцию, записывающую собранные вакансии в созданную БД"
   ]
  },
  {
   "cell_type": "code",
   "execution_count": 19,
   "metadata": {
    "scrolled": true
   },
   "outputs": [],
   "source": [
    "from pymongo import MongoClient"
   ]
  },
  {
   "cell_type": "code",
   "execution_count": 196,
   "metadata": {},
   "outputs": [],
   "source": [
    "client = MongoClient('127.0.0.1',27017)\n",
    "db = client['vacancies_db']\n",
    "\n",
    "vacancies_db = db.vacancies"
   ]
  },
  {
   "cell_type": "code",
   "execution_count": 197,
   "metadata": {},
   "outputs": [
    {
     "data": {
      "text/plain": [
       "<pymongo.results.InsertManyResult at 0x7fd50b319d70>"
      ]
     },
     "execution_count": 197,
     "metadata": {},
     "output_type": "execute_result"
    }
   ],
   "source": [
    "vacancies_db.insert_many(vacancies)"
   ]
  },
  {
   "cell_type": "markdown",
   "metadata": {},
   "source": [
    "2. Функция, которая производит поиск и выводит на экран вакансии с заработной платой больше введенной суммы. Поиск по двум полям (мин и макс зарплату)"
   ]
  },
  {
   "cell_type": "code",
   "execution_count": 198,
   "metadata": {
    "scrolled": true
   },
   "outputs": [
    {
     "name": "stdout",
     "output_type": "stream",
     "text": [
      "Введите заработную плату для поиска: 150000\n"
     ]
    }
   ],
   "source": [
    "x = int(input('Введите заработную плату для поиска: '))"
   ]
  },
  {
   "cell_type": "code",
   "execution_count": 205,
   "metadata": {
    "scrolled": false
   },
   "outputs": [
    {
     "name": "stdout",
     "output_type": "stream",
     "text": [
      "{'name': 'Директор по маркетингу и развитию', 'min_salary': 150000, 'max_salary': 250000}\n",
      "{'name': 'Директор по маркетингу', 'min_salary': 100000, 'max_salary': 300000}\n",
      "{'name': 'Директор по маркетингу', 'min_salary': 230000}\n",
      "{'name': 'Директор по маркетингу и развитию обменного пункта криптовалют', 'min_salary': 250000, 'max_salary': 500000}\n",
      "{'name': 'Директор по маркетингу и рекламе', 'min_salary': 150000, 'max_salary': 250000}\n",
      "{'name': 'Директор по маркетингу и рекламе', 'min_salary': 150000, 'max_salary': 250000}\n",
      "{'name': 'Директор по маркетингу e-commerce', 'min_salary': 200000}\n",
      "{'name': 'Директор по маркетингу', 'min_salary': 80000, 'max_salary': 200000}\n",
      "{'name': 'Директор по маркетингу', 'min_salary': 170000}\n",
      "{'name': 'Директор по маркетингу и рекламе', 'min_salary': 150000, 'max_salary': 300000}\n",
      "{'name': 'Директор по маркетингу и рекламе', 'min_salary': 150000, 'max_salary': 300000}\n",
      "{'name': 'Директор по маркетингу / Онлайн-Маркетолог', 'min_salary': 50000, 'max_salary': 300000}\n",
      "{'name': 'Директор по маркетингу и рекламе', 'min_salary': 150000, 'max_salary': 300000}\n",
      "{'name': 'Директор по маркетингу и рекламе', 'min_salary': 150000, 'max_salary': 300000}\n",
      "{'name': 'Директор по маркетингу и рекламе', 'min_salary': 150000, 'max_salary': 300000}\n",
      "{'name': 'Директор по маркетингу и рекламе', 'min_salary': 150000, 'max_salary': 300000}\n",
      "{'name': 'Директор по маркетингу и рекламе', 'min_salary': 150000, 'max_salary': 300000}\n",
      "{'name': 'Директор по маркетингу и рекламе', 'min_salary': 150000, 'max_salary': 300000}\n",
      "{'name': 'Директор по маркетингу и рекламе', 'min_salary': 150000, 'max_salary': 300000}\n",
      "{'name': 'Директор по маркетингу и рекламе', 'min_salary': 150000, 'max_salary': 300000}\n",
      "{'name': 'Директор по маркетингу и рекламе', 'min_salary': 150000, 'max_salary': 300000}\n",
      "{'name': 'Директор по маркетингу и рекламе', 'min_salary': 150000, 'max_salary': 300000}\n",
      "{'name': 'Директор по маркетингу и рекламе', 'min_salary': 150000, 'max_salary': 300000}\n",
      "{'name': 'Директор по маркетингу и рекламе', 'min_salary': 150000, 'max_salary': 300000}\n",
      "{'name': 'Директор по Маркетингу (инфобизнес)', 'min_salary': 100000, 'max_salary': 200000}\n",
      "{'name': 'Директор по маркетингу', 'min_salary': 500000, 'max_salary': 1000}\n",
      "{'name': 'Директор по маркетингу', 'min_salary': 200000}\n",
      "{'name': 'Директор по маркетингу и рекламе', 'max_salary': 300000}\n",
      "{'name': 'Коммерческий директор (рынок телекоммуникаций)', 'min_salary': 260000, 'max_salary': 320000}\n",
      "{'name': 'Коммерческий директор', 'min_salary': 180000}\n"
     ]
    }
   ],
   "source": [
    "for vacancy in vacancies_db.find({'$or':[\n",
    "                                      {'min_salary': {'$gt': x}}, {'max_salary': {'$gt': x}}\n",
    "                                  ]},\n",
    "                                {'_id':0, 'name': 1, 'min_salary': 1, 'max_salary': 1}):\n",
    "    print(vacancy)"
   ]
  },
  {
   "cell_type": "markdown",
   "metadata": {},
   "source": [
    "3. Функция, которая будет добавлять в базу данных только новые вакансии с сайта"
   ]
  },
  {
   "cell_type": "code",
   "execution_count": 209,
   "metadata": {
    "scrolled": true
   },
   "outputs": [],
   "source": [
    "for vacancy in vacancies:\n",
    "    vac_id = vacancy['vacancy_id']\n",
    "    vacancies_db.update_one(\n",
    "        {'vacancy_id': vac_id},\n",
    "        {'$set': vacancy},\n",
    "        upsert=True)"
   ]
  },
  {
   "cell_type": "code",
   "execution_count": 210,
   "metadata": {},
   "outputs": [
    {
     "name": "stderr",
     "output_type": "stream",
     "text": [
      "/opt/anaconda3/lib/python3.7/site-packages/ipykernel_launcher.py:1: DeprecationWarning: count is deprecated. Use estimated_document_count or count_documents instead. Please note that $where must be replaced by $expr, $near must be replaced by $geoWithin with $center, and $nearSphere must be replaced by $geoWithin with $centerSphere\n",
      "  \"\"\"Entry point for launching an IPython kernel.\n"
     ]
    },
    {
     "data": {
      "text/plain": [
       "70"
      ]
     },
     "execution_count": 210,
     "metadata": {},
     "output_type": "execute_result"
    }
   ],
   "source": [
    "vacancies_db.count()"
   ]
  }
 ],
 "metadata": {
  "kernelspec": {
   "display_name": "Python 3",
   "language": "python",
   "name": "python3"
  },
  "language_info": {
   "codemirror_mode": {
    "name": "ipython",
    "version": 3
   },
   "file_extension": ".py",
   "mimetype": "text/x-python",
   "name": "python",
   "nbconvert_exporter": "python",
   "pygments_lexer": "ipython3",
   "version": "3.7.6"
  }
 },
 "nbformat": 4,
 "nbformat_minor": 4
}
