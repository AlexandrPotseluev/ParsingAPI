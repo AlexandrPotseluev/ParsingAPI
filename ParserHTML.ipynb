{
 "cells": [
  {
   "cell_type": "markdown",
   "metadata": {},
   "source": [
    "## Парсинг HTML (hh.ru, superjob.ru)"
   ]
  },
  {
   "cell_type": "markdown",
   "metadata": {},
   "source": [
    "#### Библиотеки для парсинга HTML и данных"
   ]
  },
  {
   "cell_type": "code",
   "execution_count": 538,
   "metadata": {},
   "outputs": [],
   "source": [
    "import pandas as pd\n",
    "import requests\n",
    "import re\n",
    "\n",
    "from bs4 import BeautifulSoup as bs\n",
    "from pprint import pprint"
   ]
  },
  {
   "cell_type": "markdown",
   "metadata": {},
   "source": [
    "## Скачивание данных"
   ]
  },
  {
   "cell_type": "markdown",
   "metadata": {},
   "source": [
    "#### 1. Подготовка параметров для скачивания"
   ]
  },
  {
   "cell_type": "code",
   "execution_count": 4,
   "metadata": {
    "scrolled": false
   },
   "outputs": [
    {
     "name": "stdout",
     "output_type": "stream",
     "text": [
      "Введите название вакансии для поиска: Директор по маркетингу\n"
     ]
    }
   ],
   "source": [
    "vacancy_name = input('Введите название вакансии для поиска: ')"
   ]
  },
  {
   "cell_type": "code",
   "execution_count": 463,
   "metadata": {},
   "outputs": [
    {
     "name": "stdout",
     "output_type": "stream",
     "text": [
      "Введите количество страниц для поиска: 1\n"
     ]
    }
   ],
   "source": [
    "pages = int(input('Введите количество страниц для поиска: '))"
   ]
  },
  {
   "cell_type": "code",
   "execution_count": 464,
   "metadata": {
    "scrolled": true
   },
   "outputs": [
    {
     "data": {
      "text/plain": [
       "('Директор по маркетингу', 1)"
      ]
     },
     "execution_count": 464,
     "metadata": {},
     "output_type": "execute_result"
    }
   ],
   "source": [
    "vacancy_name, pages"
   ]
  },
  {
   "cell_type": "code",
   "execution_count": 559,
   "metadata": {},
   "outputs": [],
   "source": [
    "headers = {'User-Agent': 'Mozilla/5.0 (Macintosh; Intel Mac OS X 10_15_5) AppleWebKit/605.1.15 (KHTML, like Gecko) Version/13.1.1 Safari/605.1.15',\n",
    "           'Accept': '*/*'}"
   ]
  },
  {
   "cell_type": "code",
   "execution_count": 611,
   "metadata": {
    "scrolled": false
   },
   "outputs": [
    {
     "name": "stdout",
     "output_type": "stream",
     "text": [
      "50\n",
      "18\n"
     ]
    }
   ],
   "source": [
    "hh_link = 'https://hh.ru'\n",
    "sj_link = 'https://superjob.ru'\n",
    "\n",
    "vacancies = []\n",
    "\n",
    "for page in range(pages):\n",
    "    #Поиск по странице hh.ru\n",
    "    hh_params = {'page':str(page),\n",
    "             'text':vacancy_name,\n",
    "             'clusters':'true',\n",
    "             'search_field':'name',\n",
    "             'enable_snippets':'true'}\n",
    "    response = requests.get(hh_link+'/search/vacancy', headers=headers, params=hh_params)\n",
    "    soup = bs(response.text, 'html.parser')\n",
    "    \n",
    "    if response.ok:\n",
    "        vacancies_block = soup.find('div',{'class':'vacancy-serp'})\n",
    "        vacancies_list = vacancies_block.find_all('div',{'class':'vacancy-serp-item'})\n",
    "        \n",
    "        print(len(vacancies_list))\n",
    "        \n",
    "        for vacancy in vacancies_list:\n",
    "            vacancy_data = {}\n",
    "            vacancy_data['name'] = vacancy.find('a',{'data-qa':'vacancy-serp__vacancy-title'}).getText()\n",
    "            vacancy_data['link'] = vacancy.find('a',{'data-qa':'vacancy-serp__vacancy-title'})['href']\n",
    "            a = vacancy.find('span',{'data-qa':'vacancy-serp__vacancy-compensation'})\n",
    "            if a == None:\n",
    "                a = None\n",
    "            else:\n",
    "                a = a.getText()\n",
    "                a = re.split('[\\xa0 -]',a)\n",
    "                vacancy_data['salary'] = a\n",
    "                \n",
    "                if len(a) == 4 and a[0] == 'от':\n",
    "                    vacancy_data['min_salary'] = a[1]+a[2]\n",
    "                if len(a) == 4 and a[0] == 'до':\n",
    "                    vacancy_data['max_salary'] = a[1]+a[2]\n",
    "                if len(a) > 4:\n",
    "                    vacancy_data['min_salary'] = a[0]+a[1]\n",
    "                    vacancy_data['max_salary'] = a[2]+a[3]\n",
    "                    \n",
    "                vacancy_data['currency'] = a[-1]\n",
    "                    \n",
    "            b = vacancy.find('span',{'data-qa':'vacancy-serp__vacancy-address'}).getText()\n",
    "            vacancy_data['city'] = b.split(',')[0]\n",
    "            vacancy_data['main_link'] = hh_link\n",
    "            \n",
    "            vacancies.append(vacancy_data)\n",
    "            \n",
    "    #Поиск по странице superjob.ru\n",
    "    sj_params = {'page':str(page),\n",
    "                 'keywords': vacancy_name}\n",
    "    \n",
    "    response = requests.get(sj_link+'/vacancy/search/', headers=headers, params=sj_params)\n",
    "    soup = bs(response.text, 'html.parser')\n",
    "    \n",
    "    if response.ok:\n",
    "        vacancies_block = soup.find('div',{'class':'_1ID8B'})\n",
    "        vacancies_list = vacancies_block.find_all('div',{'class':'LvoDO'})\n",
    "        \n",
    "        print(len(vacancies_list))\n",
    "        \n",
    "        for vacancy in vacancies_list:\n",
    "            vacancy_data = {}\n",
    "            vacancy_data['name'] = vacancy.find('a',{'class':'_1UJAN'}).getText()\n",
    "            vacancy_data['link'] = sj_link+vacancy.find('a',{'class':'_1UJAN'})['href']\n",
    "            \n",
    "            a = vacancy.find('span',{'class':'_2VHxz'}).getText()\n",
    "            if a =='По договорённости':\n",
    "                a = None\n",
    "            else:\n",
    "                a = re.split('[\\xa0 -]',a)\n",
    "                vacancy_data['salary'] = a\n",
    "                \n",
    "                if len(a) == 4 and a[0] == 'от':\n",
    "                    vacancy_data['min_salary'] = a[1]+a[2]\n",
    "                if len(a) == 4 and a[0] == 'до':\n",
    "                    vacancy_data['max_salary'] = a[1]+a[2]\n",
    "                if len(a) > 4:\n",
    "                    vacancy_data['min_salary'] = a[0]+a[1]\n",
    "                    vacancy_data['max_salary'] = a[2]+a[3]\n",
    "                    \n",
    "                vacancy_data['currency'] = a[-1]\n",
    "                    \n",
    "            b = vacancy.find('span',{'class':'clLH5'}).find_next_sibling().getText()\n",
    "            vacancy_data['city'] = b.split(',')[0]\n",
    "            vacancy_data['main_link'] = sj_link\n",
    "            \n",
    "            vacancies.append(vacancy_data)"
   ]
  },
  {
   "cell_type": "code",
   "execution_count": 612,
   "metadata": {
    "scrolled": true
   },
   "outputs": [
    {
     "data": {
      "text/html": [
       "<div>\n",
       "<style scoped>\n",
       "    .dataframe tbody tr th:only-of-type {\n",
       "        vertical-align: middle;\n",
       "    }\n",
       "\n",
       "    .dataframe tbody tr th {\n",
       "        vertical-align: top;\n",
       "    }\n",
       "\n",
       "    .dataframe thead th {\n",
       "        text-align: right;\n",
       "    }\n",
       "</style>\n",
       "<table border=\"1\" class=\"dataframe\">\n",
       "  <thead>\n",
       "    <tr style=\"text-align: right;\">\n",
       "      <th></th>\n",
       "      <th>name</th>\n",
       "      <th>link</th>\n",
       "      <th>salary</th>\n",
       "      <th>min_salary</th>\n",
       "      <th>max_salary</th>\n",
       "      <th>currency</th>\n",
       "      <th>city</th>\n",
       "      <th>main_link</th>\n",
       "    </tr>\n",
       "  </thead>\n",
       "  <tbody>\n",
       "    <tr>\n",
       "      <th>0</th>\n",
       "      <td>Директор по маркетингу</td>\n",
       "      <td>https://hh.ru/vacancy/37582494?query=%D0%94%D0...</td>\n",
       "      <td>[100, 000, 200, 000, руб.]</td>\n",
       "      <td>100000</td>\n",
       "      <td>200000</td>\n",
       "      <td>руб.</td>\n",
       "      <td>Москва</td>\n",
       "      <td>https://hh.ru</td>\n",
       "    </tr>\n",
       "    <tr>\n",
       "      <th>1</th>\n",
       "      <td>Директор по маркетингу</td>\n",
       "      <td>https://hh.ru/vacancy/37916053?query=%D0%94%D0...</td>\n",
       "      <td>[500, 000, 1, 000, 000, KZT]</td>\n",
       "      <td>500000</td>\n",
       "      <td>1000</td>\n",
       "      <td>KZT</td>\n",
       "      <td>Нур-Султан</td>\n",
       "      <td>https://hh.ru</td>\n",
       "    </tr>\n",
       "    <tr>\n",
       "      <th>2</th>\n",
       "      <td>Директор по развитию и маркетингу</td>\n",
       "      <td>https://hh.ru/vacancy/38016442?query=%D0%94%D0...</td>\n",
       "      <td>[от, 120, 000, руб.]</td>\n",
       "      <td>120000</td>\n",
       "      <td>NaN</td>\n",
       "      <td>руб.</td>\n",
       "      <td>Барнаул</td>\n",
       "      <td>https://hh.ru</td>\n",
       "    </tr>\n",
       "    <tr>\n",
       "      <th>3</th>\n",
       "      <td>Директор по маркетингу и развитию обменного пу...</td>\n",
       "      <td>https://hh.ru/vacancy/37415755?query=%D0%94%D0...</td>\n",
       "      <td>[250, 000, 500, 000, руб.]</td>\n",
       "      <td>250000</td>\n",
       "      <td>500000</td>\n",
       "      <td>руб.</td>\n",
       "      <td>Санкт-Петербург</td>\n",
       "      <td>https://hh.ru</td>\n",
       "    </tr>\n",
       "    <tr>\n",
       "      <th>4</th>\n",
       "      <td>Директор по маркетингу</td>\n",
       "      <td>https://hh.ru/vacancy/37668079?query=%D0%94%D0...</td>\n",
       "      <td>[100, 000, 100, 000, руб.]</td>\n",
       "      <td>100000</td>\n",
       "      <td>100000</td>\n",
       "      <td>руб.</td>\n",
       "      <td>Санкт-Петербург</td>\n",
       "      <td>https://hh.ru</td>\n",
       "    </tr>\n",
       "    <tr>\n",
       "      <th>...</th>\n",
       "      <td>...</td>\n",
       "      <td>...</td>\n",
       "      <td>...</td>\n",
       "      <td>...</td>\n",
       "      <td>...</td>\n",
       "      <td>...</td>\n",
       "      <td>...</td>\n",
       "      <td>...</td>\n",
       "    </tr>\n",
       "    <tr>\n",
       "      <th>63</th>\n",
       "      <td>Руководитель отдела маркетинга</td>\n",
       "      <td>https://superjob.ru/vakansii/rukovoditel-otdel...</td>\n",
       "      <td>[от, 100, 000, руб.]</td>\n",
       "      <td>100000</td>\n",
       "      <td>NaN</td>\n",
       "      <td>руб.</td>\n",
       "      <td>Москва</td>\n",
       "      <td>https://superjob.ru</td>\n",
       "    </tr>\n",
       "    <tr>\n",
       "      <th>64</th>\n",
       "      <td>Коммерческий директор</td>\n",
       "      <td>https://superjob.ru/vakansii/kommercheskij-dir...</td>\n",
       "      <td>NaN</td>\n",
       "      <td>NaN</td>\n",
       "      <td>NaN</td>\n",
       "      <td>NaN</td>\n",
       "      <td>Москва</td>\n",
       "      <td>https://superjob.ru</td>\n",
       "    </tr>\n",
       "    <tr>\n",
       "      <th>65</th>\n",
       "      <td>Руководитель отдела продаж интернет-рекламы</td>\n",
       "      <td>https://superjob.ru/vakansii/rukovoditel-otdel...</td>\n",
       "      <td>NaN</td>\n",
       "      <td>NaN</td>\n",
       "      <td>NaN</td>\n",
       "      <td>NaN</td>\n",
       "      <td>Москва</td>\n",
       "      <td>https://superjob.ru</td>\n",
       "    </tr>\n",
       "    <tr>\n",
       "      <th>66</th>\n",
       "      <td>Руководитель отдела рекламы и PR</td>\n",
       "      <td>https://superjob.ru/vakansii/rukovoditel-otdel...</td>\n",
       "      <td>NaN</td>\n",
       "      <td>NaN</td>\n",
       "      <td>NaN</td>\n",
       "      <td>NaN</td>\n",
       "      <td>Москва</td>\n",
       "      <td>https://superjob.ru</td>\n",
       "    </tr>\n",
       "    <tr>\n",
       "      <th>67</th>\n",
       "      <td>Руководитель производства (интерьерная и наруж...</td>\n",
       "      <td>https://superjob.ru/vakansii/rukovoditel-proiz...</td>\n",
       "      <td>[от, 80, 000, руб.]</td>\n",
       "      <td>80000</td>\n",
       "      <td>NaN</td>\n",
       "      <td>руб.</td>\n",
       "      <td>Балашиха</td>\n",
       "      <td>https://superjob.ru</td>\n",
       "    </tr>\n",
       "  </tbody>\n",
       "</table>\n",
       "<p>68 rows × 8 columns</p>\n",
       "</div>"
      ],
      "text/plain": [
       "                                                 name  \\\n",
       "0                              Директор по маркетингу   \n",
       "1                              Директор по маркетингу   \n",
       "2                   Директор по развитию и маркетингу   \n",
       "3   Директор по маркетингу и развитию обменного пу...   \n",
       "4                              Директор по маркетингу   \n",
       "..                                                ...   \n",
       "63                     Руководитель отдела маркетинга   \n",
       "64                              Коммерческий директор   \n",
       "65        Руководитель отдела продаж интернет-рекламы   \n",
       "66                   Руководитель отдела рекламы и PR   \n",
       "67  Руководитель производства (интерьерная и наруж...   \n",
       "\n",
       "                                                 link  \\\n",
       "0   https://hh.ru/vacancy/37582494?query=%D0%94%D0...   \n",
       "1   https://hh.ru/vacancy/37916053?query=%D0%94%D0...   \n",
       "2   https://hh.ru/vacancy/38016442?query=%D0%94%D0...   \n",
       "3   https://hh.ru/vacancy/37415755?query=%D0%94%D0...   \n",
       "4   https://hh.ru/vacancy/37668079?query=%D0%94%D0...   \n",
       "..                                                ...   \n",
       "63  https://superjob.ru/vakansii/rukovoditel-otdel...   \n",
       "64  https://superjob.ru/vakansii/kommercheskij-dir...   \n",
       "65  https://superjob.ru/vakansii/rukovoditel-otdel...   \n",
       "66  https://superjob.ru/vakansii/rukovoditel-otdel...   \n",
       "67  https://superjob.ru/vakansii/rukovoditel-proiz...   \n",
       "\n",
       "                          salary min_salary max_salary currency  \\\n",
       "0     [100, 000, 200, 000, руб.]     100000     200000     руб.   \n",
       "1   [500, 000, 1, 000, 000, KZT]     500000       1000      KZT   \n",
       "2           [от, 120, 000, руб.]     120000        NaN     руб.   \n",
       "3     [250, 000, 500, 000, руб.]     250000     500000     руб.   \n",
       "4     [100, 000, 100, 000, руб.]     100000     100000     руб.   \n",
       "..                           ...        ...        ...      ...   \n",
       "63          [от, 100, 000, руб.]     100000        NaN     руб.   \n",
       "64                           NaN        NaN        NaN      NaN   \n",
       "65                           NaN        NaN        NaN      NaN   \n",
       "66                           NaN        NaN        NaN      NaN   \n",
       "67           [от, 80, 000, руб.]      80000        NaN     руб.   \n",
       "\n",
       "               city            main_link  \n",
       "0            Москва        https://hh.ru  \n",
       "1        Нур-Султан        https://hh.ru  \n",
       "2           Барнаул        https://hh.ru  \n",
       "3   Санкт-Петербург        https://hh.ru  \n",
       "4   Санкт-Петербург        https://hh.ru  \n",
       "..              ...                  ...  \n",
       "63           Москва  https://superjob.ru  \n",
       "64           Москва  https://superjob.ru  \n",
       "65           Москва  https://superjob.ru  \n",
       "66           Москва  https://superjob.ru  \n",
       "67         Балашиха  https://superjob.ru  \n",
       "\n",
       "[68 rows x 8 columns]"
      ]
     },
     "execution_count": 612,
     "metadata": {},
     "output_type": "execute_result"
    }
   ],
   "source": [
    "vacancies_data = pd.DataFrame(vacancies)\n",
    "vacancies_data"
   ]
  },
  {
   "cell_type": "markdown",
   "metadata": {},
   "source": [
    "## Проверка ошибок после парсинга в min&max зарплате "
   ]
  },
  {
   "cell_type": "markdown",
   "metadata": {},
   "source": [
    "Достаточно легко провести проверку max_salary < min_salary и исправить значения ориентируясь на колонку salary, которую можно удалить после проверки. Таких строк должно быть мало и они больше относятся к выбросам. Сотрудников с высокими зарплатами обычно ищут - без использования онлайн площадок."
   ]
  },
  {
   "cell_type": "code",
   "execution_count": 618,
   "metadata": {
    "scrolled": true
   },
   "outputs": [
    {
     "data": {
      "text/html": [
       "<div>\n",
       "<style scoped>\n",
       "    .dataframe tbody tr th:only-of-type {\n",
       "        vertical-align: middle;\n",
       "    }\n",
       "\n",
       "    .dataframe tbody tr th {\n",
       "        vertical-align: top;\n",
       "    }\n",
       "\n",
       "    .dataframe thead th {\n",
       "        text-align: right;\n",
       "    }\n",
       "</style>\n",
       "<table border=\"1\" class=\"dataframe\">\n",
       "  <thead>\n",
       "    <tr style=\"text-align: right;\">\n",
       "      <th></th>\n",
       "      <th>salary</th>\n",
       "      <th>min_salary</th>\n",
       "      <th>max_salary</th>\n",
       "      <th>currency</th>\n",
       "    </tr>\n",
       "  </thead>\n",
       "  <tbody>\n",
       "    <tr>\n",
       "      <th>1</th>\n",
       "      <td>[500, 000, 1, 000, 000, KZT]</td>\n",
       "      <td>500000</td>\n",
       "      <td>1000</td>\n",
       "      <td>KZT</td>\n",
       "    </tr>\n",
       "    <tr>\n",
       "      <th>5</th>\n",
       "      <td>[700, 000, 3, 000, 000, руб.]</td>\n",
       "      <td>700000</td>\n",
       "      <td>3000</td>\n",
       "      <td>руб.</td>\n",
       "    </tr>\n",
       "    <tr>\n",
       "      <th>8</th>\n",
       "      <td>[80, 000, 200, 000, руб.]</td>\n",
       "      <td>80000</td>\n",
       "      <td>200000</td>\n",
       "      <td>руб.</td>\n",
       "    </tr>\n",
       "    <tr>\n",
       "      <th>11</th>\n",
       "      <td>[70, 000, 120, 000, руб.]</td>\n",
       "      <td>70000</td>\n",
       "      <td>120000</td>\n",
       "      <td>руб.</td>\n",
       "    </tr>\n",
       "    <tr>\n",
       "      <th>28</th>\n",
       "      <td>[60, 000, 140, 000, руб.]</td>\n",
       "      <td>60000</td>\n",
       "      <td>140000</td>\n",
       "      <td>руб.</td>\n",
       "    </tr>\n",
       "  </tbody>\n",
       "</table>\n",
       "</div>"
      ],
      "text/plain": [
       "                           salary min_salary max_salary currency\n",
       "1    [500, 000, 1, 000, 000, KZT]     500000       1000      KZT\n",
       "5   [700, 000, 3, 000, 000, руб.]     700000       3000     руб.\n",
       "8       [80, 000, 200, 000, руб.]      80000     200000     руб.\n",
       "11      [70, 000, 120, 000, руб.]      70000     120000     руб.\n",
       "28      [60, 000, 140, 000, руб.]      60000     140000     руб."
      ]
     },
     "execution_count": 618,
     "metadata": {},
     "output_type": "execute_result"
    }
   ],
   "source": [
    "vacancies_data.loc[vacancies_data['max_salary'] < vacancies_data['min_salary'], ['salary', 'min_salary', 'max_salary', 'currency']]"
   ]
  }
 ],
 "metadata": {
  "kernelspec": {
   "display_name": "Python 3",
   "language": "python",
   "name": "python3"
  },
  "language_info": {
   "codemirror_mode": {
    "name": "ipython",
    "version": 3
   },
   "file_extension": ".py",
   "mimetype": "text/x-python",
   "name": "python",
   "nbconvert_exporter": "python",
   "pygments_lexer": "ipython3",
   "version": "3.7.6"
  }
 },
 "nbformat": 4,
 "nbformat_minor": 4
}
