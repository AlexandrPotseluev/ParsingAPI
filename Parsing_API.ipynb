{
 "cells": [
  {
   "cell_type": "markdown",
   "metadata": {},
   "source": [
    "## Список репозиториев"
   ]
  },
  {
   "cell_type": "code",
   "execution_count": 107,
   "metadata": {},
   "outputs": [],
   "source": [
    "import requests\n",
    "import json"
   ]
  },
  {
   "cell_type": "code",
   "execution_count": 72,
   "metadata": {
    "scrolled": true
   },
   "outputs": [],
   "source": [
    "username = 'AlexandrPotseluev'\n",
    "link = f'https://api.github.com/users/{username}/repos'\n",
    "headers = {'User-Agent': 'Mozilla/5.0 (Macintosh; Intel Mac OS X 10_15_5) AppleWebKit/605.1.15 (KHTML, like Gecko) Version/13.1.1 Safari/605.1.15',\n",
    "           'Accept': '*/*'}"
   ]
  },
  {
   "cell_type": "code",
   "execution_count": 77,
   "metadata": {
    "scrolled": false
   },
   "outputs": [],
   "source": [
    "response = requests.get(link, headers=headers)\n",
    "data = response.json()"
   ]
  },
  {
   "cell_type": "code",
   "execution_count": 109,
   "metadata": {
    "scrolled": false
   },
   "outputs": [],
   "source": [
    "if response.ok:\n",
    "    with open(f'repo_list_{username}.json','w') as write_file:\n",
    "        json.dump(data, write_file)"
   ]
  },
  {
   "cell_type": "code",
   "execution_count": 110,
   "metadata": {},
   "outputs": [
    {
     "name": "stdout",
     "output_type": "stream",
     "text": [
      "databases_lessons\n",
      "datascience_lib\n"
     ]
    }
   ],
   "source": [
    "for i in range(len(data)):\n",
    "    print(data[i]['name'])"
   ]
  },
  {
   "cell_type": "markdown",
   "metadata": {},
   "source": [
    "## API \"Last.fm\""
   ]
  },
  {
   "cell_type": "code",
   "execution_count": 140,
   "metadata": {},
   "outputs": [],
   "source": [
    "search = 'geo.gettopartists'\n",
    "country = 'Spain'\n",
    "apikey =\n",
    "data_format = 'json'\n",
    "\n",
    "link = 'http://ws.audioscrobbler.com/2.0/'\n",
    "music_params = {'method':search,\n",
    "               'country':country,\n",
    "               'api_key':apikey,\n",
    "               'format':data_format}"
   ]
  },
  {
   "cell_type": "code",
   "execution_count": 183,
   "metadata": {
    "scrolled": true
   },
   "outputs": [],
   "source": [
    "response = requests.get(link, params=music_params)\n",
    "data = response.json()\n",
    "\n",
    "if response.ok:\n",
    "    with open(f'chart_list_{country}.json','w') as write_file:\n",
    "        json.dump(data, write_file)"
   ]
  },
  {
   "cell_type": "code",
   "execution_count": 184,
   "metadata": {
    "scrolled": true
   },
   "outputs": [
    {
     "name": "stdout",
     "output_type": "stream",
     "text": [
      "Top chart Spain:\n",
      "1. David Bowie\n",
      "2. Radiohead\n",
      "3. Queen\n",
      "4. Coldplay\n",
      "5. The Rolling Stones\n",
      "6. Muse\n",
      "7. The Beatles\n",
      "8. The Cure\n",
      "9. Daft Punk\n",
      "10. Arctic Monkeys\n",
      "11. Blur\n",
      "12. Red Hot Chili Peppers\n",
      "13. Ed Sheeran\n",
      "14. Nirvana\n",
      "15. Sia\n",
      "16. Pink Floyd\n",
      "17. Bob Dylan\n",
      "18. Tame Impala\n",
      "19. The Strokes\n",
      "20. U2\n",
      "21. The Weeknd\n",
      "22. Adele\n",
      "23. Arcade Fire\n",
      "24. Calvin Harris\n",
      "25. Michael Jackson\n",
      "26. R.E.M.\n",
      "27. Depeche Mode\n",
      "28. Led Zeppelin\n",
      "29. Lana Del Rey\n",
      "30. The Killers\n",
      "31. The xx\n",
      "32. Major Lazer\n",
      "33. The Black Keys\n",
      "34. Foo Fighters\n",
      "35. Rihanna\n",
      "36. Oasis\n",
      "37. Imagine Dragons\n",
      "38. The Smiths\n",
      "39. The Clash\n",
      "40. Gorillaz\n",
      "41. Florence + the Machine\n",
      "42. Franz Ferdinand\n",
      "43. Pixies\n",
      "44. Beck\n",
      "45. The White Stripes\n",
      "46. David Guetta\n",
      "47. New Order\n",
      "48. Vetusta Morla\n",
      "49. Drake\n",
      "50. Metallica\n"
     ]
    }
   ],
   "source": [
    "top_chart = data['topartists']['artist']\n",
    "print(f'Top chart {country}:')\n",
    "for i, item in enumerate(top_chart,1):\n",
    "            print(f'{i}. {item[\"name\"]}')"
   ]
  },
  {
   "cell_type": "code",
   "execution_count": null,
   "metadata": {},
   "outputs": [],
   "source": []
  }
 ],
 "metadata": {
  "kernelspec": {
   "display_name": "Python 3",
   "language": "python",
   "name": "python3"
  },
  "language_info": {
   "codemirror_mode": {
    "name": "ipython",
    "version": 3
   },
   "file_extension": ".py",
   "mimetype": "text/x-python",
   "name": "python",
   "nbconvert_exporter": "python",
   "pygments_lexer": "ipython3",
   "version": "3.7.6"
  }
 },
 "nbformat": 4,
 "nbformat_minor": 4
}
